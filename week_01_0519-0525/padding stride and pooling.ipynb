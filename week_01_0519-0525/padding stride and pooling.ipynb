{
 "cells": [
  {
   "cell_type": "code",
   "execution_count": 38,
   "id": "99ab4753",
   "metadata": {},
   "outputs": [],
   "source": [
    "import torch\n",
    "from torch import nn\n",
    "import d2l_self as d2l"
   ]
  },
  {
   "cell_type": "code",
   "execution_count": 23,
   "id": "816bf1b3",
   "metadata": {},
   "outputs": [],
   "source": [
    "def corr2d(X,K):\n",
    "    h,w=K.shape\n",
    "    Y=torch.zeros((X.shape[0]-h+1),(X.shape[1]-w+1))\n",
    "    for i in range(Y.shape[0]):\n",
    "        for j in range(Y.shape[1]):\n",
    "            Y[i,j]=(X[i:i+h,j:j+w]*K).sum()\n",
    "    return Y"
   ]
  },
  {
   "cell_type": "code",
   "execution_count": 24,
   "id": "972020ee",
   "metadata": {},
   "outputs": [
    {
     "data": {
      "text/plain": [
       "tensor([[24., 35.],\n",
       "        [47., 58.]])"
      ]
     },
     "execution_count": 24,
     "metadata": {},
     "output_type": "execute_result"
    }
   ],
   "source": [
    "X=torch.tensor([[1.0,2.0,3.0],[2.0,3.0,4.0],[5.0,6.0,7.0]])\n",
    "Y=torch.tensor([[2.0,3.0],[2.0,4.0]])\n",
    "corr2d(X,Y)"
   ]
  },
  {
   "cell_type": "code",
   "execution_count": 25,
   "id": "60680b96",
   "metadata": {},
   "outputs": [],
   "source": [
    "class Conv2D(nn.Module):\n",
    "    def __init__(self,kernel_size):\n",
    "        super().__init__()\n",
    "        self.weight=nn.Parameter(torch.rand(kernel_size))\n",
    "        self.bias=nn.Parameter(torch.zeros(1))\n",
    "    def forward(self,x):\n",
    "        return corr2d(x,self.weight)+self.bias"
   ]
  },
  {
   "cell_type": "code",
   "execution_count": 26,
   "id": "da7cc019",
   "metadata": {},
   "outputs": [
    {
     "data": {
      "text/plain": [
       "tensor([[1., 1., 0., 0., 0., 0., 1., 1.],\n",
       "        [1., 1., 0., 0., 0., 0., 1., 1.],\n",
       "        [1., 1., 0., 0., 0., 0., 1., 1.],\n",
       "        [1., 1., 0., 0., 0., 0., 1., 1.],\n",
       "        [1., 1., 0., 0., 0., 0., 1., 1.],\n",
       "        [1., 1., 0., 0., 0., 0., 1., 1.]])"
      ]
     },
     "execution_count": 26,
     "metadata": {},
     "output_type": "execute_result"
    }
   ],
   "source": [
    "#图像目标检测\n",
    "X=torch.ones(6,8)\n",
    "X[:,2:6]=0\n",
    "X"
   ]
  },
  {
   "cell_type": "code",
   "execution_count": 27,
   "id": "d0c74f8e",
   "metadata": {},
   "outputs": [],
   "source": [
    "K=torch.tensor([[1.0,-1.0]])#因为是自定义二维互相关函数，所有期待输入的卷积核至少是二维张量，必须写成[[]]\n",
    "Y=corr2d(X,K)"
   ]
  },
  {
   "cell_type": "code",
   "execution_count": 28,
   "id": "9db1c44b",
   "metadata": {},
   "outputs": [
    {
     "name": "stdout",
     "output_type": "stream",
     "text": [
      "epoch2,loss8.741\n",
      "epoch4,loss1.969\n",
      "epoch6,loss0.536\n",
      "epoch8,loss0.174\n",
      "epoch10,loss0.064\n"
     ]
    }
   ],
   "source": [
    "#学习卷积核\n",
    "conv2d=nn.Conv2d(1,1,kernel_size=(1,2),bias=False)\n",
    "X=X.reshape((1,1,6,8))\n",
    "Y=Y.reshape((1,1,6,7))\n",
    "for i in range(10):\n",
    "    Y_hat=corr2d(X[0,0],conv2d.weight[0,0])\n",
    "    l=(Y-Y_hat)**2\n",
    "    conv2d.zero_grad()\n",
    "    l.sum().backward()\n",
    "    conv2d.weight.data[:]-=3e-2*conv2d.weight.grad\n",
    "    if (i+1)%2==0:\n",
    "        print(f'epoch{i+1},loss{l.sum():.3f}')"
   ]
  },
  {
   "cell_type": "code",
   "execution_count": 29,
   "id": "d9f68794",
   "metadata": {},
   "outputs": [
    {
     "data": {
      "text/plain": [
       "torch.Size([8, 8])"
      ]
     },
     "execution_count": 29,
     "metadata": {},
     "output_type": "execute_result"
    }
   ],
   "source": [
    "#padding和stride\n",
    "def comp_conv2d(conv2d,X):\n",
    "    X=X.reshape((1,1)+X.shape)\n",
    "    Y=conv2d(X)\n",
    "    return Y.reshape(Y.shape[2:])\n",
    "conv2d=nn.Conv2d(1,1,kernel_size=3,padding=1)\n",
    "X=torch.rand((8,8))\n",
    "comp_conv2d(conv2d,X).shape"
   ]
  },
  {
   "cell_type": "code",
   "execution_count": 30,
   "id": "b25dfd6d",
   "metadata": {},
   "outputs": [
    {
     "data": {
      "text/plain": [
       "torch.Size([8, 8])"
      ]
     },
     "execution_count": 30,
     "metadata": {},
     "output_type": "execute_result"
    }
   ],
   "source": [
    "conv2d=nn.Conv2d(1,1,kernel_size=(5,3),padding=(2,1))\n",
    "comp_conv2d(conv2d,X).shape"
   ]
  },
  {
   "cell_type": "code",
   "execution_count": 31,
   "id": "0eb07b2d",
   "metadata": {},
   "outputs": [
    {
     "data": {
      "text/plain": [
       "torch.Size([2, 2])"
      ]
     },
     "execution_count": 31,
     "metadata": {},
     "output_type": "execute_result"
    }
   ],
   "source": [
    "conv2d=nn.Conv2d(1,1,kernel_size=(3,5),padding=(0,1),stride=(3,4))\n",
    "comp_conv2d(conv2d,X).shape"
   ]
  },
  {
   "cell_type": "code",
   "execution_count": 32,
   "id": "cdec5035",
   "metadata": {},
   "outputs": [],
   "source": [
    "#多输入通道\n",
    "#X(C_in,H,w),K(C_in,kh,kw)\n",
    "\n",
    "def corr2d_multi_in(X,K):\n",
    "#zip(X,K):把每个通道x,k进行一一匹配\n",
    "    return sum(d2l.corr2d(x,k) for x,k in zip(X,K))"
   ]
  },
  {
   "cell_type": "code",
   "execution_count": 33,
   "id": "bad60183",
   "metadata": {},
   "outputs": [],
   "source": [
    "#多输出通道:希望得到多个不同的特征图，每个输出通道有独立的多通道卷积核\n",
    "#K.shape=(C_out,C_in,kh,kw)\n",
    "#X.shape=(C_in,H,w)\n",
    "#output.shape=(C_out,H_out,W_out)\n",
    "#stack :把C_out个2D 卷积结果堆叠起来形成输出张量，shape=(C_out,H_out,W_out)\n",
    "def corr2d_multi_in_out(X,K):\n",
    "    return torch.stack([corr2d_multi_in(X,k)for k in K],0)"
   ]
  },
  {
   "cell_type": "code",
   "execution_count": 34,
   "id": "b3c29117",
   "metadata": {},
   "outputs": [
    {
     "data": {
      "text/plain": [
       "torch.Size([3, 2, 2, 2])"
      ]
     },
     "execution_count": 34,
     "metadata": {},
     "output_type": "execute_result"
    }
   ],
   "source": [
    "K=torch.tensor([[[0.0,1.0],[2.0,3.0]],[[3.0,4.0],[5.0,6.0]]])\n",
    "K=torch.stack((K,K+1,K+2),dim=0)\n",
    "K.shape"
   ]
  },
  {
   "cell_type": "code",
   "execution_count": 39,
   "id": "81513d3d",
   "metadata": {},
   "outputs": [
    {
     "data": {
      "text/plain": [
       "tensor([[[ 86.,  72.]],\n",
       "\n",
       "        [[110.,  97.]],\n",
       "\n",
       "        [[134., 122.]]])"
      ]
     },
     "execution_count": 39,
     "metadata": {},
     "output_type": "execute_result"
    }
   ],
   "source": [
    "X=torch.tensor([[[1.0,2.0,3.0],[3.0,4.0,5.0]],[[1.0,3.0,5.0],[9.0,1.0,2.0]]])\n",
    "corr2d_multi_in_out(X,K)"
   ]
  },
  {
   "cell_type": "code",
   "execution_count": 40,
   "id": "b88a8c8a",
   "metadata": {},
   "outputs": [],
   "source": [
    "#1*1卷积层\n",
    "#在空间维度上不做滑动窗口的加权计算，只在通道方向上做加权融合\n",
    "def corr2d_multi_in_out_1x1(X,K):\n",
    "    c_i,h,w=X.shape\n",
    "    c_o=K.shape[0]\n",
    "    X=X.reshape((c_i,h*w))\n",
    "    K=K.reshape((c_o,c_i))\n",
    "    Y=torch.matmul(K,X)\n",
    "    return Y.reshape(c_o,c_i,h,w)"
   ]
  },
  {
   "cell_type": "code",
   "execution_count": null,
   "id": "5ee9c256",
   "metadata": {},
   "outputs": [],
   "source": [
    "X=torch.normal(0,1,(3,3,3))\n",
    "K=torch.normal(0,1,(2,3,1,1))\n",
    "#把K的维度设置成kh=1,kw=1,则也是1x1卷积\n",
    "Y1=corr2d_multi_in_out_1x1(X,K)\n",
    "Y2=corr2d_multi_in_out(X,K)\n",
    "#assert语句：验证两个是否基本等价\n",
    "assert float(torch.abs(Y1-Y2).sum())<1e-6"
   ]
  },
  {
   "cell_type": "code",
   "execution_count": 41,
   "id": "75239b96",
   "metadata": {},
   "outputs": [],
   "source": [
    "#池化层\n",
    "def pool2d(X,pool_size,mode='max'):\n",
    "    p_h,p_w=pool_size\n",
    "    Y=torch.zeros((X.shape[0]-p_h+1),X.shape[1]-p_w+1)\n",
    "    for i in range(Y.shape[0]):\n",
    "        for j in range(Y.shape[1]):\n",
    "            if mode=='max':\n",
    "                Y[i,j]=X[i:i+p_h,j:j+p_w].max()\n",
    "            if mode=='avg':\n",
    "                Y[i,j]=X[i:i+p_h,j:j+p_w].mean()\n",
    "    return Y"
   ]
  },
  {
   "cell_type": "code",
   "execution_count": 45,
   "id": "339b4d39",
   "metadata": {},
   "outputs": [
    {
     "data": {
      "text/plain": [
       "tensor([[3., 5.],\n",
       "        [4., 7.]])"
      ]
     },
     "execution_count": 45,
     "metadata": {},
     "output_type": "execute_result"
    }
   ],
   "source": [
    "X=torch.tensor([[2.0,3.0,4.0],[2.0,3.0,5.0],[2.0,4.0,7.0]])\n",
    "pool2d(X,(2,2))"
   ]
  },
  {
   "cell_type": "code",
   "execution_count": 46,
   "id": "2efa3371",
   "metadata": {},
   "outputs": [
    {
     "data": {
      "text/plain": [
       "tensor([[2.5000, 3.7500],\n",
       "        [2.7500, 4.7500]])"
      ]
     },
     "execution_count": 46,
     "metadata": {},
     "output_type": "execute_result"
    }
   ],
   "source": [
    "pool2d(X,(2,2),'avg')"
   ]
  },
  {
   "cell_type": "code",
   "execution_count": 47,
   "id": "d7f189a0",
   "metadata": {},
   "outputs": [
    {
     "data": {
      "text/plain": [
       "tensor([[[[ 0,  1,  2,  3],\n",
       "          [ 4,  5,  6,  7],\n",
       "          [ 8,  9, 10, 11],\n",
       "          [12, 13, 14, 15]]]])"
      ]
     },
     "execution_count": 47,
     "metadata": {},
     "output_type": "execute_result"
    }
   ],
   "source": [
    "X=torch.arange(16).reshape(1,1,4,4)\n",
    "X"
   ]
  },
  {
   "cell_type": "code",
   "execution_count": 48,
   "id": "2feb39e1",
   "metadata": {},
   "outputs": [
    {
     "data": {
      "text/plain": [
       "tensor([[[[10]]]])"
      ]
     },
     "execution_count": 48,
     "metadata": {},
     "output_type": "execute_result"
    }
   ],
   "source": [
    "pool2d=nn.MaxPool2d(3)\n",
    "pool2d(X)"
   ]
  },
  {
   "cell_type": "code",
   "execution_count": 49,
   "id": "7cb67925",
   "metadata": {},
   "outputs": [
    {
     "data": {
      "text/plain": [
       "tensor([[[[ 5,  7],\n",
       "          [13, 15]]]])"
      ]
     },
     "execution_count": 49,
     "metadata": {},
     "output_type": "execute_result"
    }
   ],
   "source": [
    "pool2d=nn.MaxPool2d((2,3),stride=(2,3),padding=(0,1))\n",
    "pool2d(X)"
   ]
  },
  {
   "cell_type": "code",
   "execution_count": null,
   "id": "af6032ad",
   "metadata": {},
   "outputs": [
    {
     "data": {
      "text/plain": [
       "tensor([[[[ 0,  1,  2,  3],\n",
       "          [ 4,  5,  6,  7],\n",
       "          [ 8,  9, 10, 11],\n",
       "          [12, 13, 14, 15]],\n",
       "\n",
       "         [[ 1,  2,  3,  4],\n",
       "          [ 5,  6,  7,  8],\n",
       "          [ 9, 10, 11, 12],\n",
       "          [13, 14, 15, 16]],\n",
       "\n",
       "         [[ 1,  2,  3,  4],\n",
       "          [ 5,  6,  7,  8],\n",
       "          [ 9, 10, 11, 12],\n",
       "          [13, 14, 15, 16]],\n",
       "\n",
       "         [[ 2,  3,  4,  5],\n",
       "          [ 6,  7,  8,  9],\n",
       "          [10, 11, 12, 13],\n",
       "          [14, 15, 16, 17]]]])"
      ]
     },
     "execution_count": 51,
     "metadata": {},
     "output_type": "execute_result"
    }
   ],
   "source": [
    "#多个通道\n",
    "#是在每个输入通道上单独计算，而不是在通道上对输入进行汇总\n",
    "X=torch.cat((X,X+1),1)\n",
    "X"
   ]
  },
  {
   "cell_type": "code",
   "execution_count": 53,
   "id": "1494b139",
   "metadata": {},
   "outputs": [
    {
     "data": {
      "text/plain": [
       "tensor([[[[ 1,  3],\n",
       "          [ 5,  7],\n",
       "          [ 9, 11],\n",
       "          [13, 15],\n",
       "          [13, 15]],\n",
       "\n",
       "         [[ 2,  4],\n",
       "          [ 6,  8],\n",
       "          [10, 12],\n",
       "          [14, 16],\n",
       "          [14, 16]],\n",
       "\n",
       "         [[ 2,  4],\n",
       "          [ 6,  8],\n",
       "          [10, 12],\n",
       "          [14, 16],\n",
       "          [14, 16]],\n",
       "\n",
       "         [[ 3,  5],\n",
       "          [ 7,  9],\n",
       "          [11, 13],\n",
       "          [15, 17],\n",
       "          [15, 17]]]])"
      ]
     },
     "execution_count": 53,
     "metadata": {},
     "output_type": "execute_result"
    }
   ],
   "source": [
    "pool2d=nn.MaxPool2d((2,3),stride=(1,2),padding=1)\n",
    "pool2d(X)"
   ]
  }
 ],
 "metadata": {
  "kernelspec": {
   "display_name": "Python 3",
   "language": "python",
   "name": "python3"
  },
  "language_info": {
   "codemirror_mode": {
    "name": "ipython",
    "version": 3
   },
   "file_extension": ".py",
   "mimetype": "text/x-python",
   "name": "python",
   "nbconvert_exporter": "python",
   "pygments_lexer": "ipython3",
   "version": "3.10.16"
  }
 },
 "nbformat": 4,
 "nbformat_minor": 5
}
