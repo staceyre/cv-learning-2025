{
 "cells": [
  {
   "cell_type": "code",
   "execution_count": null,
   "id": "d9a11efc",
   "metadata": {},
   "outputs": [],
   "source": [
    "import d2l_helper"
   ]
  },
  {
   "cell_type": "code",
   "execution_count": null,
   "id": "0e8c6683",
   "metadata": {},
   "outputs": [
    {
     "name": "stdout",
     "output_type": "stream",
     "text": [
      "12\n",
      "torch.Size([12])\n",
      "tensor([[ 0,  1,  2,  3],\n",
      "        [ 4,  5,  6,  7],\n",
      "        [ 8,  9, 10, 11]])\n"
     ]
    }
   ],
   "source": [
    "x=d2l_helper.arange(12)\n",
    "print(x.numel())\n",
    "print(x.shape)\n",
    "print(x.reshape(3,4))"
   ]
  },
  {
   "cell_type": "code",
   "execution_count": null,
   "id": "8e52ed87",
   "metadata": {},
   "outputs": [
    {
     "data": {
      "text/plain": [
       "(tensor([ 3,  7, 10,  9]),\n",
       " tensor([-1, -1, -2,  1]),\n",
       " tensor([0.5000, 0.7500, 0.6667, 1.2500]),\n",
       " tensor([ 2, 12, 24, 20]))"
      ]
     },
     "execution_count": 7,
     "metadata": {},
     "output_type": "execute_result"
    }
   ],
   "source": [
    "x=d2l_helper.tensor([1,3,4,5])\n",
    "y=d2l_helper.tensor([2,4,6,4])\n",
    "x+y,x-y,x/y,x*y"
   ]
  },
  {
   "cell_type": "code",
   "execution_count": null,
   "id": "b8e10b90",
   "metadata": {},
   "outputs": [
    {
     "data": {
      "text/plain": [
       "tensor([  2.7183,  20.0855,  54.5981, 148.4132])"
      ]
     },
     "execution_count": 8,
     "metadata": {},
     "output_type": "execute_result"
    }
   ],
   "source": [
    "d2l_helper.exp(x)"
   ]
  },
  {
   "cell_type": "code",
   "execution_count": null,
   "id": "0ad30f77",
   "metadata": {},
   "outputs": [
    {
     "data": {
      "text/plain": [
       "(tensor([[ 0.,  1.,  2.,  3.],\n",
       "         [ 4.,  5.,  6.,  7.],\n",
       "         [ 8.,  9., 10., 11.],\n",
       "         [ 1., 45.,  6.,  3.],\n",
       "         [ 1.,  4.,  7.,  8.],\n",
       "         [ 2.,  4.,  6.,  7.]]),\n",
       " tensor([[ 0.,  1.,  2.,  3.,  1., 45.,  6.,  3.],\n",
       "         [ 4.,  5.,  6.,  7.,  1.,  4.,  7.,  8.],\n",
       "         [ 8.,  9., 10., 11.,  2.,  4.,  6.,  7.]]))"
      ]
     },
     "execution_count": 10,
     "metadata": {},
     "output_type": "execute_result"
    }
   ],
   "source": [
    "X=d2l_helper.arange(12,dtype=d2l_helper.float32).reshape(3,4)\n",
    "Y=d2l_helper.tensor([[1,45,6,3],[1,4,7,8],[2,4,6,7]])\n",
    "d2l_helper.cat((X,Y),dim=0),d2l_helper.cat((X,Y),dim=1)"
   ]
  },
  {
   "cell_type": "code",
   "execution_count": 11,
   "id": "e6622d8c",
   "metadata": {},
   "outputs": [
    {
     "data": {
      "text/plain": [
       "tensor([[False, False, False,  True],\n",
       "        [False, False, False, False],\n",
       "        [False, False, False, False]])"
      ]
     },
     "execution_count": 11,
     "metadata": {},
     "output_type": "execute_result"
    }
   ],
   "source": [
    "X==Y"
   ]
  },
  {
   "cell_type": "code",
   "execution_count": null,
   "id": "37081bb9",
   "metadata": {},
   "outputs": [
    {
     "name": "stdout",
     "output_type": "stream",
     "text": [
      "tensor([[0, 1, 2]]) tensor([[0],\n",
      "        [1]])\n"
     ]
    },
    {
     "data": {
      "text/plain": [
       "tensor([[0, 1, 2],\n",
       "        [1, 2, 3]])"
      ]
     },
     "execution_count": 14,
     "metadata": {},
     "output_type": "execute_result"
    }
   ],
   "source": [
    "#注意广播机制需要满足的条件：若两个张量在某维度上大小相等，或者其中一个张量在该维度上大小为 1\n",
    "a=d2l_helper.arange(3).reshape(1,3)\n",
    "b=d2l_helper.arange(2).reshape(2,1)\n",
    "print(a,b)\n",
    "a+b"
   ]
  },
  {
   "cell_type": "code",
   "execution_count": 15,
   "id": "2e4a8cfd",
   "metadata": {},
   "outputs": [
    {
     "data": {
      "text/plain": [
       "False"
      ]
     },
     "execution_count": 15,
     "metadata": {},
     "output_type": "execute_result"
    }
   ],
   "source": [
    "#节省内存\n",
    "before=id(Y)\n",
    "Y=Y+X\n",
    "id(Y)==before"
   ]
  },
  {
   "cell_type": "code",
   "execution_count": null,
   "id": "0538940d",
   "metadata": {},
   "outputs": [
    {
     "name": "stdout",
     "output_type": "stream",
     "text": [
      "1890592172832\n",
      "1890592172832\n"
     ]
    }
   ],
   "source": [
    "Z=d2l_helper.zeros_like(Y)\n",
    "print(id(Z))\n",
    "Z[:]=X+Y\n",
    "print(id(Z))"
   ]
  },
  {
   "cell_type": "code",
   "execution_count": 17,
   "id": "cb6b5aa1",
   "metadata": {},
   "outputs": [
    {
     "data": {
      "text/plain": [
       "True"
      ]
     },
     "execution_count": 17,
     "metadata": {},
     "output_type": "execute_result"
    }
   ],
   "source": [
    "before=id(X)\n",
    "X+=Y\n",
    "id(X)==before"
   ]
  },
  {
   "cell_type": "code",
   "execution_count": null,
   "id": "f42f1136",
   "metadata": {},
   "outputs": [
    {
     "data": {
      "text/plain": [
       "numpy.ndarray"
      ]
     },
     "execution_count": 18,
     "metadata": {},
     "output_type": "execute_result"
    }
   ],
   "source": [
    "A=X.numpy()\n",
    "B=d2l_helper.tensor(A)\n",
    "type(A)"
   ]
  },
  {
   "cell_type": "code",
   "execution_count": 19,
   "id": "c40efa33",
   "metadata": {},
   "outputs": [
    {
     "data": {
      "text/plain": [
       "(tensor([[False, False, False, False],\n",
       "         [False, False, False, False],\n",
       "         [False, False, False, False]]),\n",
       " tensor([[False,  True,  True,  True],\n",
       "         [ True,  True,  True,  True],\n",
       "         [ True,  True,  True,  True]]))"
      ]
     },
     "execution_count": 19,
     "metadata": {},
     "output_type": "execute_result"
    }
   ],
   "source": [
    "#本节练习题\n",
    "X<Y,X>Y"
   ]
  },
  {
   "cell_type": "code",
   "execution_count": null,
   "id": "67147172",
   "metadata": {},
   "outputs": [],
   "source": [
    "#数据预处理"
   ]
  },
  {
   "cell_type": "code",
   "execution_count": null,
   "id": "8abba18d",
   "metadata": {},
   "outputs": [],
   "source": [
    "import os\n",
    "import d2l_helper"
   ]
  },
  {
   "cell_type": "code",
   "execution_count": 25,
   "id": "6a15a9f9",
   "metadata": {},
   "outputs": [],
   "source": [
    "#创建并写入csv文件\n",
    "os.makedirs(os.path.join('..','data'),exist_ok=True)\n",
    "data_file=os.path.join('..','data','house_tiny.csv')\n",
    "with open(data_file,'w')as f:\n",
    "    f.write('Numrooms,Alley,Price\\n')\n",
    "    f.write('5,train,80000\\n')\n",
    "    f.write('3,pave,90002\\n')\n",
    "    f.write('6,walk,5808\\n')\n",
    "    f.write('NA,pave,8000\\n')\n"
   ]
  },
  {
   "cell_type": "code",
   "execution_count": 26,
   "id": "4fd2a361",
   "metadata": {},
   "outputs": [
    {
     "name": "stdout",
     "output_type": "stream",
     "text": [
      "   Numrooms  Alley  Price\n",
      "0       5.0  train  80000\n",
      "1       3.0   pave  90002\n",
      "2       6.0   walk   5808\n",
      "3       NaN   pave   8000\n"
     ]
    }
   ],
   "source": [
    "#注意这个地方读取csv文件里的内容是data_file而不是csv文件\n",
    "import pandas as pd\n",
    "data=pd.read_csv(data_file)\n",
    "print(data)"
   ]
  },
  {
   "cell_type": "code",
   "execution_count": 38,
   "id": "59f2e166",
   "metadata": {},
   "outputs": [],
   "source": [
    "#处理缺失值\n",
    "inputs,outputs=data.iloc[:,0:1],data.iloc[:,2]\n",
    "inputs=inputs.fillna(inputs.mean())\n"
   ]
  },
  {
   "cell_type": "code",
   "execution_count": 39,
   "id": "4be48ee2",
   "metadata": {},
   "outputs": [
    {
     "name": "stdout",
     "output_type": "stream",
     "text": [
      "   Numrooms\n",
      "0  5.000000\n",
      "1  3.000000\n",
      "2  6.000000\n",
      "3  4.666667\n"
     ]
    }
   ],
   "source": [
    "inputs=pd.get_dummies(inputs,dummy_na=True)\n",
    "print(inputs)"
   ]
  },
  {
   "cell_type": "code",
   "execution_count": null,
   "id": "58e9a9b6",
   "metadata": {},
   "outputs": [
    {
     "data": {
      "text/plain": [
       "(tensor([[5],\n",
       "         [3],\n",
       "         [6],\n",
       "         [4]], dtype=torch.int32),\n",
       " tensor([80000, 90002,  5808,  8000], dtype=torch.int32))"
      ]
     },
     "execution_count": 40,
     "metadata": {},
     "output_type": "execute_result"
    }
   ],
   "source": [
    "#注意什么时候用dtype,什么时候用astype\n",
    "#astype(),用在pandas和numpy对象上\n",
    "#dtype,用在to_numpy()或np.array(),torch.tensor这类转换函数上\n",
    "X=d2l_helper.tensor(inputs.to_numpy(dtype=int))\n",
    "y=d2l_helper.tensor(outputs.to_numpy(dtype=int))\n",
    "X,y\n"
   ]
  },
  {
   "cell_type": "code",
   "execution_count": null,
   "id": "ae6ebcc0",
   "metadata": {},
   "outputs": [],
   "source": [
    "#课后练习题,注意方法是idxmax()而不是idmax(),idxmax()是返回最大值的列所在的标签\n",
    "data=data.drop(columns=data.isna().sum().idxmax())\n",
    "data=data.fillna(0)\n",
    "tensor=d2l_helper.tensor(data.to_numpy(dtype=float))"
   ]
  },
  {
   "cell_type": "code",
   "execution_count": null,
   "id": "6252d60c",
   "metadata": {},
   "outputs": [
    {
     "data": {
      "text/plain": [
       "tensor([0, 1, 2, 3])"
      ]
     },
     "execution_count": 46,
     "metadata": {},
     "output_type": "execute_result"
    }
   ],
   "source": [
    "#线性代数\n",
    "#矩阵"
   ]
  },
  {
   "cell_type": "code",
   "execution_count": null,
   "id": "8387b572",
   "metadata": {},
   "outputs": [
    {
     "data": {
      "text/plain": [
       "tensor([[ 0.7564,  0.9785, -0.5037, -0.0675],\n",
       "        [-0.6911,  0.4641,  0.0842, -0.5729],\n",
       "        [-0.1638,  0.3351, -0.0726, -0.7419],\n",
       "        [-1.2270,  0.2646,  0.9558,  2.5278],\n",
       "        [-2.0082, -0.5033, -0.9480,  1.9012]])"
      ]
     },
     "execution_count": 47,
     "metadata": {},
     "output_type": "execute_result"
    }
   ],
   "source": [
    "A=d2l_helper.randn(5,4)\n",
    "A"
   ]
  },
  {
   "cell_type": "code",
   "execution_count": 48,
   "id": "d4ee3244",
   "metadata": {},
   "outputs": [
    {
     "data": {
      "text/plain": [
       "tensor([[ 0.7564, -0.6911, -0.1638, -1.2270, -2.0082],\n",
       "        [ 0.9785,  0.4641,  0.3351,  0.2646, -0.5033],\n",
       "        [-0.5037,  0.0842, -0.0726,  0.9558, -0.9480],\n",
       "        [-0.0675, -0.5729, -0.7419,  2.5278,  1.9012]])"
      ]
     },
     "execution_count": 48,
     "metadata": {},
     "output_type": "execute_result"
    }
   ],
   "source": [
    "A.T"
   ]
  },
  {
   "cell_type": "code",
   "execution_count": null,
   "id": "6e18f860",
   "metadata": {},
   "outputs": [
    {
     "data": {
      "text/plain": [
       "tensor([[ 0.,  1.,  2.,  3.,  4.],\n",
       "        [ 5.,  6.,  7.,  8.,  9.],\n",
       "        [10., 11., 12., 13., 14.],\n",
       "        [15., 16., 17., 18., 19.]])"
      ]
     },
     "execution_count": 51,
     "metadata": {},
     "output_type": "execute_result"
    }
   ],
   "source": [
    "#注意这里的写法，torch.arange(,dtype=torch.float32)\n",
    "A=d2l_helper.arange(20,dtype=d2l_helper.float32).reshape(4,5)\n",
    "B=A.clone()\n",
    "B"
   ]
  },
  {
   "cell_type": "code",
   "execution_count": null,
   "id": "ec6c08ea",
   "metadata": {},
   "outputs": [
    {
     "data": {
      "text/plain": [
       "tensor([[  0.,   1.,   4.,   9.,  16.],\n",
       "        [ 25.,  36.,  49.,  64.,  81.],\n",
       "        [100., 121., 144., 169., 196.],\n",
       "        [225., 256., 289., 324., 361.]])"
      ]
     },
     "execution_count": 52,
     "metadata": {},
     "output_type": "execute_result"
    }
   ],
   "source": [
    "#按照元素进行运算（Hadamard积）\n",
    "A*B"
   ]
  },
  {
   "cell_type": "code",
   "execution_count": 55,
   "id": "6def57df",
   "metadata": {},
   "outputs": [
    {
     "name": "stdout",
     "output_type": "stream",
     "text": [
      "tensor([10., 35., 60., 85.])\n",
      "tensor([30., 34., 38., 42., 46.])\n"
     ]
    }
   ],
   "source": [
    "#如何进行矩阵的降维（求和）\n",
    "A_sum_axis1=A.sum(axis=1)\n",
    "print(A_sum_axis1)\n",
    "A_sum_axis0=A.sum(axis=0)\n",
    "print(A_sum_axis0)"
   ]
  },
  {
   "cell_type": "code",
   "execution_count": 56,
   "id": "f0b669ae",
   "metadata": {},
   "outputs": [
    {
     "name": "stdout",
     "output_type": "stream",
     "text": [
      "tensor(190.)\n",
      "tensor(190.)\n"
     ]
    }
   ],
   "source": [
    "print(A.sum())\n",
    "print(A.sum(axis=[0,1]))"
   ]
  },
  {
   "cell_type": "code",
   "execution_count": 57,
   "id": "a0333e32",
   "metadata": {},
   "outputs": [
    {
     "name": "stdout",
     "output_type": "stream",
     "text": [
      "tensor(9.5000)\n",
      "tensor(9.5000)\n"
     ]
    }
   ],
   "source": [
    "#平均值\n",
    "print(A.mean())\n",
    "print(A.sum()/A.numel())"
   ]
  },
  {
   "cell_type": "code",
   "execution_count": 58,
   "id": "a1193a54",
   "metadata": {},
   "outputs": [
    {
     "name": "stdout",
     "output_type": "stream",
     "text": [
      "tensor([ 2.,  7., 12., 17.])\n",
      "tensor([ 7.5000,  8.5000,  9.5000, 10.5000, 11.5000])\n"
     ]
    }
   ],
   "source": [
    "print(A.mean(axis=1))\n",
    "print(A.mean(axis=0))"
   ]
  },
  {
   "cell_type": "code",
   "execution_count": 60,
   "id": "20c190ef",
   "metadata": {},
   "outputs": [
    {
     "data": {
      "text/plain": [
       "tensor([[10.],\n",
       "        [35.],\n",
       "        [60.],\n",
       "        [85.]])"
      ]
     },
     "execution_count": 60,
     "metadata": {},
     "output_type": "execute_result"
    }
   ],
   "source": [
    "#非降维求和\n",
    "sum_A=A.sum(axis=1,keepdims=True)\n",
    "sum_A"
   ]
  },
  {
   "cell_type": "code",
   "execution_count": null,
   "id": "c2c2cc24",
   "metadata": {},
   "outputs": [
    {
     "data": {
      "text/plain": [
       "tensor([[ 0.,  1.,  3.,  6., 10.],\n",
       "        [ 5., 11., 18., 26., 35.],\n",
       "        [10., 21., 33., 46., 60.],\n",
       "        [15., 31., 48., 66., 85.]])"
      ]
     },
     "execution_count": 61,
     "metadata": {},
     "output_type": "execute_result"
    }
   ],
   "source": [
    "#求累计总和 .cumsum()\n",
    "A.cumsum(axis=1)"
   ]
  },
  {
   "cell_type": "code",
   "execution_count": null,
   "id": "22361392",
   "metadata": {},
   "outputs": [
    {
     "name": "stdout",
     "output_type": "stream",
     "text": [
      "tensor([1., 2., 3., 4.])\n",
      "tensor(10.)\n"
     ]
    }
   ],
   "source": [
    "#点积（dot product)\n",
    "y=d2l_helper.ones(4,dtype=d2l_helper.float32)\n",
    "x=d2l_helper.tensor([1,2,3,4],dtype=d2l_helper.float32)\n",
    "print(x*y)\n",
    "print(d2l_helper.dot(x,y))"
   ]
  },
  {
   "cell_type": "code",
   "execution_count": null,
   "id": "639b4d38",
   "metadata": {},
   "outputs": [
    {
     "data": {
      "text/plain": [
       "tensor([[  1.7683,  -8.0389,  -8.9692,  -0.7106],\n",
       "        [-11.9493, -19.8815, -26.7707,   5.5581],\n",
       "        [-25.6668, -31.7242, -44.5723,  11.8268],\n",
       "        [-39.3844, -43.5668, -62.3738,  18.0955],\n",
       "        [-53.1020, -55.4094, -80.1754,  24.3642]])"
      ]
     },
     "execution_count": 66,
     "metadata": {},
     "output_type": "execute_result"
    }
   ],
   "source": [
    "#向量积\n",
    "A=d2l_helper.arange(30,dtype=d2l_helper.float32).reshape(5,6)\n",
    "B=d2l_helper.randn(24,dtype=d2l_helper.float32).reshape(6,4)\n",
    "d2l_helper.mm(A,B)"
   ]
  },
  {
   "cell_type": "code",
   "execution_count": null,
   "id": "954ecf68",
   "metadata": {},
   "outputs": [
    {
     "data": {
      "text/plain": [
       "tensor(5.)"
      ]
     },
     "execution_count": 69,
     "metadata": {},
     "output_type": "execute_result"
    }
   ],
   "source": [
    "#范数\n",
    "#计算L2范数,注意这个地方的范式计算必须要规定变量的数值类型\n",
    "u=d2l_helper.tensor([3,-4],dtype=d2l_helper.float32)\n",
    "d2l_helper.norm(u)"
   ]
  },
  {
   "cell_type": "code",
   "execution_count": null,
   "id": "542bc167",
   "metadata": {},
   "outputs": [
    {
     "data": {
      "text/plain": [
       "tensor(7.)"
      ]
     },
     "execution_count": 70,
     "metadata": {},
     "output_type": "execute_result"
    }
   ],
   "source": [
    "#L1范数\n",
    "d2l_helper.abs(u).sum()"
   ]
  },
  {
   "cell_type": "code",
   "execution_count": null,
   "id": "04191341",
   "metadata": {},
   "outputs": [
    {
     "data": {
      "text/plain": [
       "tensor(92.4932)"
      ]
     },
     "execution_count": 72,
     "metadata": {},
     "output_type": "execute_result"
    }
   ],
   "source": [
    "C=d2l_helper.arange(30,dtype=d2l_helper.float32).reshape(5,6)\n",
    "d2l_helper.norm(C)\n"
   ]
  },
  {
   "cell_type": "code",
   "execution_count": null,
   "id": "9feb413d",
   "metadata": {},
   "outputs": [
    {
     "data": {
      "text/plain": [
       "tensor([[True, True, True, True, True],\n",
       "        [True, True, True, True, True],\n",
       "        [True, True, True, True, True],\n",
       "        [True, True, True, True, True],\n",
       "        [True, True, True, True, True]])"
      ]
     },
     "execution_count": 73,
     "metadata": {},
     "output_type": "execute_result"
    }
   ],
   "source": [
    "#本节练习\n",
    "A=d2l_helper.arange(25).reshape(5,5)\n",
    "B=A.T\n",
    "C=B.T\n",
    "A==C"
   ]
  },
  {
   "cell_type": "code",
   "execution_count": null,
   "id": "1656863f",
   "metadata": {},
   "outputs": [
    {
     "data": {
      "text/plain": [
       "tensor([[True, True, True, True, True],\n",
       "        [True, True, True, True, True],\n",
       "        [True, True, True, True, True],\n",
       "        [True, True, True, True, True]])"
      ]
     },
     "execution_count": 75,
     "metadata": {},
     "output_type": "execute_result"
    }
   ],
   "source": [
    "A=d2l_helper.randn(20).reshape(5,4)\n",
    "B=d2l_helper.randn(20).reshape(5,4)\n",
    "C=A.T+B.T\n",
    "D=(A+B).T\n",
    "C==D"
   ]
  },
  {
   "cell_type": "code",
   "execution_count": null,
   "id": "896b95ca",
   "metadata": {},
   "outputs": [
    {
     "data": {
      "text/plain": [
       "tensor([[True, True, True, True, True],\n",
       "        [True, True, True, True, True],\n",
       "        [True, True, True, True, True],\n",
       "        [True, True, True, True, True],\n",
       "        [True, True, True, True, True]])"
      ]
     },
     "execution_count": 77,
     "metadata": {},
     "output_type": "execute_result"
    }
   ],
   "source": [
    "A=d2l_helper.randn(25).reshape(5,5)\n",
    "D=A+A.T\n",
    "D==D.T"
   ]
  },
  {
   "cell_type": "code",
   "execution_count": null,
   "id": "803ed2c6",
   "metadata": {},
   "outputs": [
    {
     "data": {
      "text/plain": [
       "2"
      ]
     },
     "execution_count": 79,
     "metadata": {},
     "output_type": "execute_result"
    }
   ],
   "source": [
    "X=d2l_helper.randn(24).reshape(2,3,4)\n",
    "len(X)"
   ]
  },
  {
   "cell_type": "code",
   "execution_count": null,
   "id": "c4928087",
   "metadata": {},
   "outputs": [
    {
     "name": "stdout",
     "output_type": "stream",
     "text": [
      "tensor([[ 0.0778,  0.1973,  0.0158,  0.3281,  0.3811],\n",
      "        [ 0.6821,  1.1443,  0.0959, -0.6947, -0.2276],\n",
      "        [-0.2058, -4.8960,  5.5841, -6.8640,  7.3817],\n",
      "        [-2.6344, -0.6104,  4.4276,  0.8153, -0.9981]])\n",
      "tensor([[ 0.0778,  0.1973,  0.0158,  0.3281,  0.3811],\n",
      "        [ 0.6821,  1.1443,  0.0959, -0.6947, -0.2276],\n",
      "        [-0.2058, -4.8960,  5.5841, -6.8640,  7.3817],\n",
      "        [-2.6344, -0.6104,  4.4276,  0.8153, -0.9981]])\n"
     ]
    }
   ],
   "source": [
    "#为了避免广播机制，在A.sum(axis=1)后加入unsqueeze(1),把张量维度从(m,)变为（m,1）\n",
    "A=d2l_helper.randn(20).reshape(4,5)\n",
    "print(A/A.sum(axis=1).unsqueeze(1))\n",
    "#或者是\n",
    "print(A/A.sum(axis=1,keepdim=True))"
   ]
  },
  {
   "cell_type": "code",
   "execution_count": null,
   "id": "341e3910",
   "metadata": {},
   "outputs": [
    {
     "name": "stdout",
     "output_type": "stream",
     "text": [
      "tensor([[-2.0572,  0.5776,  0.7255,  1.4066],\n",
      "        [-0.3656, -1.0766,  2.3430,  0.2160],\n",
      "        [-0.2465, -2.0560,  1.2562,  1.2166]])\n",
      "tensor([[-0.1233, -3.2862,  1.3084,  0.4762],\n",
      "        [-2.5460,  0.7313,  3.0164,  2.3629]])\n",
      "tensor([[-0.0191, -1.8014,  0.1956],\n",
      "        [ 0.6716,  2.9183, -0.0253]])\n"
     ]
    }
   ],
   "source": [
    "E=d2l_helper.randn(24).reshape(2,3,4)\n",
    "print(E.sum(axis=0))\n",
    "print(E.sum(axis=1))\n",
    "print(E.sum(axis=2))"
   ]
  },
  {
   "cell_type": "code",
   "execution_count": null,
   "id": "d17ce08f",
   "metadata": {},
   "outputs": [
    {
     "data": {
      "text/plain": [
       "4"
      ]
     },
     "execution_count": 93,
     "metadata": {},
     "output_type": "execute_result"
    }
   ],
   "source": [
    "X=d2l_helper.tensor([[6,7,9],[6,7,9],[6,7,9],[9,9,7]])\n",
    "len(X)"
   ]
  }
 ],
 "metadata": {
  "kernelspec": {
   "display_name": "Python 3",
   "language": "python",
   "name": "python3"
  },
  "language_info": {
   "codemirror_mode": {
    "name": "ipython",
    "version": 3
   },
   "file_extension": ".py",
   "mimetype": "text/x-python",
   "name": "python",
   "nbconvert_exporter": "python",
   "pygments_lexer": "ipython3",
   "version": "3.12.3"
  }
 },
 "nbformat": 4,
 "nbformat_minor": 5
}
